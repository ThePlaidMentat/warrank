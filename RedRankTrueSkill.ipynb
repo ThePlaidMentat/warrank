{
 "cells": [
  {
   "cell_type": "markdown",
   "metadata": {},
   "source": [
    "![Mars Panorama](mars.jpg)"
   ]
  },
  {
   "cell_type": "markdown",
   "metadata": {},
   "source": [
    "# RedRank\n",
    "\n",
    "#### A Bayesian Terraforming Mars player rating system using Microsoft TrueSkill\n",
    "\n",
    "#### Kevin Beam"
   ]
  },
  {
   "cell_type": "code",
   "execution_count": 1,
   "metadata": {},
   "outputs": [],
   "source": [
    "import pandas as pd\n",
    "from pandas.plotting import scatter_matrix\n",
    "import numpy as np\n",
    "import matplotlib.pyplot as plt\n",
    "\n",
    "plt.rcParams['figure.figsize'] = [15, 10]"
   ]
  },
  {
   "cell_type": "markdown",
   "metadata": {},
   "source": [
    "The game results for all games to date. This will be loaded dynamically from a Google Sheet in the future, but for now are recorded below."
   ]
  },
  {
   "cell_type": "code",
   "execution_count": 2,
   "metadata": {},
   "outputs": [
    {
     "data": {
      "text/html": [
       "<div>\n",
       "<style scoped>\n",
       "    .dataframe tbody tr th:only-of-type {\n",
       "        vertical-align: middle;\n",
       "    }\n",
       "\n",
       "    .dataframe tbody tr th {\n",
       "        vertical-align: top;\n",
       "    }\n",
       "\n",
       "    .dataframe thead th {\n",
       "        text-align: right;\n",
       "    }\n",
       "</style>\n",
       "<table border=\"1\" class=\"dataframe\">\n",
       "  <thead>\n",
       "    <tr style=\"text-align: right;\">\n",
       "      <th></th>\n",
       "      <th>Allis</th>\n",
       "      <th>Benjamin</th>\n",
       "      <th>Kevin</th>\n",
       "      <th>Matt</th>\n",
       "      <th>Steve</th>\n",
       "      <th>Todd</th>\n",
       "    </tr>\n",
       "  </thead>\n",
       "  <tbody>\n",
       "    <tr>\n",
       "      <th>0</th>\n",
       "      <td>-</td>\n",
       "      <td>109.5</td>\n",
       "      <td>-</td>\n",
       "      <td>-</td>\n",
       "      <td>121</td>\n",
       "      <td>98</td>\n",
       "    </tr>\n",
       "    <tr>\n",
       "      <th>1</th>\n",
       "      <td>64</td>\n",
       "      <td>59</td>\n",
       "      <td>-</td>\n",
       "      <td>70</td>\n",
       "      <td>82</td>\n",
       "      <td>61</td>\n",
       "    </tr>\n",
       "    <tr>\n",
       "      <th>2</th>\n",
       "      <td>-</td>\n",
       "      <td>74</td>\n",
       "      <td>-</td>\n",
       "      <td>78</td>\n",
       "      <td>71</td>\n",
       "      <td>80</td>\n",
       "    </tr>\n",
       "    <tr>\n",
       "      <th>3</th>\n",
       "      <td>71</td>\n",
       "      <td>62</td>\n",
       "      <td>-</td>\n",
       "      <td>71</td>\n",
       "      <td>48</td>\n",
       "      <td>74</td>\n",
       "    </tr>\n",
       "    <tr>\n",
       "      <th>4</th>\n",
       "      <td>96</td>\n",
       "      <td>93</td>\n",
       "      <td>-</td>\n",
       "      <td>-</td>\n",
       "      <td>87</td>\n",
       "      <td>-</td>\n",
       "    </tr>\n",
       "    <tr>\n",
       "      <th>5</th>\n",
       "      <td>99</td>\n",
       "      <td>92</td>\n",
       "      <td>-</td>\n",
       "      <td>-</td>\n",
       "      <td>92</td>\n",
       "      <td>-</td>\n",
       "    </tr>\n",
       "    <tr>\n",
       "      <th>6</th>\n",
       "      <td>-</td>\n",
       "      <td>-</td>\n",
       "      <td>-</td>\n",
       "      <td>-</td>\n",
       "      <td>159</td>\n",
       "      <td>130</td>\n",
       "    </tr>\n",
       "    <tr>\n",
       "      <th>7</th>\n",
       "      <td>-</td>\n",
       "      <td>62</td>\n",
       "      <td>48</td>\n",
       "      <td>78</td>\n",
       "      <td>60</td>\n",
       "      <td>64</td>\n",
       "    </tr>\n",
       "    <tr>\n",
       "      <th>8</th>\n",
       "      <td>145</td>\n",
       "      <td>-</td>\n",
       "      <td>-</td>\n",
       "      <td>-</td>\n",
       "      <td>-</td>\n",
       "      <td>115</td>\n",
       "    </tr>\n",
       "  </tbody>\n",
       "</table>\n",
       "</div>"
      ],
      "text/plain": [
       "  Allis Benjamin Kevin Matt Steve Todd\n",
       "0     -    109.5     -    -   121   98\n",
       "1    64       59     -   70    82   61\n",
       "2     -       74     -   78    71   80\n",
       "3    71       62     -   71    48   74\n",
       "4    96       93     -    -    87    -\n",
       "5    99       92     -    -    92    -\n",
       "6     -        -     -    -   159  130\n",
       "7     -       62    48   78    60   64\n",
       "8   145        -     -    -     -  115"
      ]
     },
     "execution_count": 2,
     "metadata": {},
     "output_type": "execute_result"
    }
   ],
   "source": [
    "game_data = [\n",
    "    {'Steve': 121, 'Benjamin': 109.5, 'Todd': 98},\n",
    "    {'Steve': 82, 'Matt': 70, 'Allis': 64, 'Todd': 61, 'Benjamin': 59},\n",
    "    {'Todd': 80, 'Matt': 78, 'Benjamin': 74, 'Steve': 71},\n",
    "    {'Todd': 74, 'Matt': 71, 'Allis': 71, 'Benjamin': 62, 'Steve': 48},\n",
    "    {'Allis': 96, 'Benjamin': 93, 'Steve': 87},\n",
    "    {'Allis': 99, 'Benjamin': 92, 'Steve': 92},\n",
    "    {'Steve': 159, 'Todd': 130},\n",
    "    {'Matt': 78, 'Todd': 64, 'Benjamin': 62, 'Steve': 60, 'Kevin': 48},\n",
    "    {'Allis': 145, 'Todd': 115}\n",
    "]\n",
    "\n",
    "games = pd.DataFrame(game_data)\n",
    "games.fillna('-')"
   ]
  },
  {
   "cell_type": "markdown",
   "metadata": {},
   "source": [
    "Here we show the total score for each game, and a scatterplot of total game score by number of players in the game. Is there a correlation, or are total game scores distributed the same regardless of number of players? More data, please!"
   ]
  },
  {
   "cell_type": "code",
   "execution_count": 3,
   "metadata": {},
   "outputs": [
    {
     "data": {
      "text/plain": [
       "<matplotlib.legend.Legend at 0x7f9fb3ef3898>"
      ]
     },
     "execution_count": 3,
     "metadata": {},
     "output_type": "execute_result"
    },
    {
     "data": {
      "image/png": "[encoded data removed]",
      "text/plain": [
       "<Figure size 432x288 with 1 Axes>"
      ]
     },
     "metadata": {
      "needs_background": "light"
     },
     "output_type": "display_data"
    }
   ],
   "source": [
    "plt.figure()\n",
    "pd.Series(games.sum(axis='columns'), name='Score')\\\n",
    "  .plot.bar(title='Total Score per Game', ylim=(200,400), color='cornflowerblue')\n",
    "plt.legend(loc='best')"
   ]
  },
  {
   "cell_type": "code",
   "execution_count": 4,
   "metadata": {},
   "outputs": [
    {
     "data": {
      "text/plain": [
       "<matplotlib.axes._subplots.AxesSubplot at 0x7f9fb3e256d8>"
      ]
     },
     "execution_count": 4,
     "metadata": {},
     "output_type": "execute_result"
    },
    {
     "data": {
      "text/plain": [
       "<Figure size 432x288 with 0 Axes>"
      ]
     },
     "metadata": {},
     "output_type": "display_data"
    },
    {
     "data": {
      "image/png": "[encoded data removed]",
      "text/plain": [
       "<Figure size 432x288 with 1 Axes>"
      ]
     },
     "metadata": {
      "needs_background": "light"
     },
     "output_type": "display_data"
    }
   ],
   "source": [
    "plt.figure()\n",
    "pd.DataFrame({'Players': games.count(axis='columns').astype(np.uint8), 'Score': games.sum(axis='columns')})\\\n",
    "  .plot.scatter(x='Players', y='Score', title='Total Score by Number of Players', xticks=range(2, 6))"
   ]
  },
  {
   "cell_type": "markdown",
   "metadata": {},
   "source": [
    "---\n",
    "\n",
    "# TrueSkill\n",
    "\n",
    "#### Use Microsoft TrueSkill to rate the players\n",
    "\n",
    "---"
   ]
  },
  {
   "cell_type": "code",
   "execution_count": 5,
   "metadata": {},
   "outputs": [
    {
     "data": {
      "text/plain": [
       "trueskill.TrueSkill(mu=25.000, sigma=8.333, beta=4.167, tau=0.083, draw_probability=10.0%, backend='scipy')"
      ]
     },
     "execution_count": 5,
     "metadata": {},
     "output_type": "execute_result"
    }
   ],
   "source": [
    "import math\n",
    "from functools import partial\n",
    "from scipy.stats import norm\n",
    "from trueskill import global_env, quality_1vs1, rate, setup, Rating, BETA\n",
    "setup(backend='scipy')"
   ]
  },
  {
   "cell_type": "code",
   "execution_count": 6,
   "metadata": {},
   "outputs": [],
   "source": [
    "ratings = {n: Rating() for n in games.columns}"
   ]
  },
  {
   "cell_type": "code",
   "execution_count": 7,
   "metadata": {},
   "outputs": [
    {
     "data": {
      "text/plain": [
       "0    None\n",
       "1    None\n",
       "2    None\n",
       "3    None\n",
       "4    None\n",
       "5    None\n",
       "6    None\n",
       "7    None\n",
       "8    None\n",
       "dtype: object"
      ]
     },
     "execution_count": 7,
     "metadata": {},
     "output_type": "execute_result"
    }
   ],
   "source": [
    "def update_ratings(ratings, game):\n",
    "    game = game.dropna()\n",
    "    rating_groups = [(ratings[n],) for n in game.index]\n",
    "    ranks = game.rank(ascending=False).values.astype(int)\n",
    "    new_ratings = rate(rating_groups, ranks)\n",
    "    for n, nr in zip(game.index, new_ratings):\n",
    "        ratings[n] = nr[0]\n",
    "        \n",
    "games.apply(partial(update_ratings, ratings), axis='columns')"
   ]
  },
  {
   "cell_type": "markdown",
   "metadata": {},
   "source": [
    "## TrueSkill ratings after all games"
   ]
  },
  {
   "cell_type": "code",
   "execution_count": 8,
   "metadata": {},
   "outputs": [
    {
     "data": {
      "text/plain": [
       "{'Allis': trueskill.Rating(mu=29.182, sigma=3.054),\n",
       " 'Benjamin': trueskill.Rating(mu=21.708, sigma=2.388),\n",
       " 'Kevin': trueskill.Rating(mu=15.136, sigma=5.569),\n",
       " 'Matt': trueskill.Rating(mu=29.153, sigma=2.968),\n",
       " 'Steve': trueskill.Rating(mu=21.022, sigma=2.431),\n",
       " 'Todd': trueskill.Rating(mu=25.560, sigma=2.605)}"
      ]
     },
     "execution_count": 8,
     "metadata": {},
     "output_type": "execute_result"
    }
   ],
   "source": [
    "ratings"
   ]
  },
  {
   "cell_type": "markdown",
   "metadata": {},
   "source": [
    "## Conservative estimate of player strength -- there is a 99% chance your rating is above this level"
   ]
  },
  {
   "cell_type": "code",
   "execution_count": 9,
   "metadata": {},
   "outputs": [
    {
     "name": "stdout",
     "output_type": "stream",
     "text": [
      "Allis: 20.02\n",
      "Benjamin: 14.54\n",
      "Kevin: -1.571\n",
      "Matt: 20.25\n",
      "Steve: 13.73\n",
      "Todd: 17.74\n"
     ]
    }
   ],
   "source": [
    "for n, r in ratings.items():\n",
    "    print('{}: {:.4}'.format(n, r.mu - 3*r.sigma))"
   ]
  },
  {
   "cell_type": "markdown",
   "metadata": {},
   "source": [
    "## Player rating estimate curves\n",
    "### Location of the peak indicates mean player strength estimate, width of curve is the estimate uncertainty"
   ]
  },
  {
   "cell_type": "code",
   "execution_count": 10,
   "metadata": {},
   "outputs": [
    {
     "data": {
      "text/plain": [
       "<matplotlib.legend.Legend at 0x7f9fb23e8b00>"
      ]
     },
     "execution_count": 10,
     "metadata": {},
     "output_type": "execute_result"
    },
    {
     "data": {
      "image/png": "[encoded data removed]",
      "text/plain": [
       "<Figure size 432x288 with 1 Axes>"
      ]
     },
     "metadata": {
      "needs_background": "light"
     },
     "output_type": "display_data"
    }
   ],
   "source": [
    "x = np.linspace(0,50,1000)\n",
    "for n, r in ratings.items():\n",
    "    plt.plot(x, norm.pdf(x, loc=r.mu, scale=r.sigma), label=n)\n",
    "plt.legend(loc='center right', bbox_to_anchor=(1.2, 0.5))"
   ]
  },
  {
   "cell_type": "markdown",
   "metadata": {},
   "source": [
    "## Pairwise expected match results based on player rating, which includes rating uncertainty"
   ]
  },
  {
   "cell_type": "code",
   "execution_count": 11,
   "metadata": {},
   "outputs": [
    {
     "name": "stdout",
     "output_type": "stream",
     "text": [
      "------------------\n",
      "Allis trueskill.Rating(mu=29.182, sigma=3.054)\n",
      "  vs Benjamin: 85.5% chance to win\n",
      "  vs Kevin: 94.8% chance to win\n",
      "  vs Matt: 50.2% chance to win\n",
      "  vs Steve: 87.6% chance to win\n",
      "  vs Todd: 69.4% chance to win\n",
      "------------------\n",
      "Benjamin trueskill.Rating(mu=21.708, sigma=2.388)\n",
      "  vs Allis: 14.5% chance to win\n",
      "  vs Kevin: 78.2% chance to win\n",
      "  vs Matt: 14.4% chance to win\n",
      "  vs Steve: 54.0% chance to win\n",
      "  vs Todd: 28.8% chance to win\n",
      "------------------\n",
      "Kevin trueskill.Rating(mu=15.136, sigma=5.569)\n",
      "  vs Allis: 5.2% chance to win\n",
      "  vs Benjamin: 21.8% chance to win\n",
      "  vs Matt: 5.2% chance to win\n",
      "  vs Steve: 24.3% chance to win\n",
      "  vs Todd: 11.0% chance to win\n",
      "------------------\n",
      "Matt trueskill.Rating(mu=29.153, sigma=2.968)\n",
      "  vs Allis: 49.8% chance to win\n",
      "  vs Benjamin: 85.6% chance to win\n",
      "  vs Kevin: 94.8% chance to win\n",
      "  vs Steve: 87.6% chance to win\n",
      "  vs Todd: 69.4% chance to win\n",
      "------------------\n",
      "Steve trueskill.Rating(mu=21.022, sigma=2.431)\n",
      "  vs Allis: 12.4% chance to win\n",
      "  vs Benjamin: 46.0% chance to win\n",
      "  vs Kevin: 75.7% chance to win\n",
      "  vs Matt: 12.4% chance to win\n",
      "  vs Todd: 25.5% chance to win\n",
      "------------------\n",
      "Todd trueskill.Rating(mu=25.560, sigma=2.605)\n",
      "  vs Allis: 30.6% chance to win\n",
      "  vs Benjamin: 71.2% chance to win\n",
      "  vs Kevin: 89.0% chance to win\n",
      "  vs Matt: 30.6% chance to win\n",
      "  vs Steve: 74.5% chance to win\n"
     ]
    }
   ],
   "source": [
    "for n, r in ratings.items():\n",
    "    print('------------------')\n",
    "    print(n, r)\n",
    "    for opp_n, opp_r in ratings.items():\n",
    "        if n is opp_n:\n",
    "            continue\n",
    "        delta_mu = r.mu - opp_r.mu\n",
    "        sum_sigma = r.sigma ** 2 + opp_r.sigma ** 2\n",
    "        win_p = global_env().cdf(delta_mu / math.sqrt(2*BETA*BETA + sum_sigma))\n",
    "        print('  vs {}: {:.1%} chance to win'.format(opp_n, win_p))"
   ]
  }
 ],
 "metadata": {
  "kernelspec": {
   "display_name": "Python 3",
   "language": "python",
   "name": "python3"
  },
  "language_info": {
   "codemirror_mode": {
    "name": "ipython",
    "version": 3
   },
   "file_extension": ".py",
   "mimetype": "text/x-python",
   "name": "python",
   "nbconvert_exporter": "python",
   "pygments_lexer": "ipython3",
   "version": "3.7.1"
  }
 },
 "nbformat": 4,
 "nbformat_minor": 2
}
